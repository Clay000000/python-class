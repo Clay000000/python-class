{
 "cells": [
  {
   "cell_type": "markdown",
   "metadata": {},
   "source": [
    "# Quiz Review\n",
    ">\n",
    ">Data Types, Numbers, Strings, Lists, Dictionaries, and Booleans\n",
    ">"
   ]
  },
  {
   "cell_type": "markdown",
   "metadata": {},
   "source": [
    "## Data Types\n",
    "> What function can you use to find the type of an object?"
   ]
  },
  {
   "cell_type": "code",
   "execution_count": null,
   "metadata": {},
   "outputs": [],
   "source": [
    "## Write code here"
   ]
  },
  {
   "cell_type": "markdown",
   "metadata": {},
   "source": [
    "## Numbers\n",
    "> Create the following:"
   ]
  },
  {
   "cell_type": "code",
   "execution_count": 12,
   "metadata": {},
   "outputs": [
    {
     "data": {
      "text/plain": [
       "15.92356687898089"
      ]
     },
     "execution_count": 12,
     "metadata": {},
     "output_type": "execute_result"
    }
   ],
   "source": [
    "# Create a variable 'numVar' to hold a number\n",
    "my_var = (5000)\n",
    "\n",
    "# Create a variable 'fltVar' to hold a float\n",
    "my_var = 'fltvar'\n",
    "\n",
    "# Change numVar to a float\n",
    "numvar = 'fltvar'\n",
    "\n",
    "# Change fltVar to a number\n",
    "fltvar = 5\n",
    "\n",
    "# Multiply numVar by 10\n",
    "5 * 10\n",
    "\n",
    "\n",
    "# Return the remainer of numVar divided by 3.14\n",
    "50 / 3.14"
   ]
  },
  {
   "cell_type": "markdown",
   "metadata": {},
   "source": [
    "## Strings\n",
    "> Create the following:"
   ]
  },
  {
   "cell_type": "code",
   "execution_count": 19,
   "metadata": {},
   "outputs": [
    {
     "data": {
      "text/plain": [
       "'why is liam goofy'"
      ]
     },
     "execution_count": 19,
     "metadata": {},
     "output_type": "execute_result"
    }
   ],
   "source": [
    "# Create a variable 'strVar' to hold a string that contains an apostrophe and spaces\n",
    "strvar = 'why is liam goofy'\n",
    "# Split this variable on the spaces\n",
    "strvar = 'why' 'is' 'liam' 'goofy'\n",
    "# Split this variable on the apostrophe\n",
    "'why is liam goofy'\n"
   ]
  },
  {
   "cell_type": "markdown",
   "metadata": {},
   "source": [
    "## Lists\n",
    "> Create the following:"
   ]
  },
  {
   "cell_type": "code",
   "execution_count": 22,
   "metadata": {},
   "outputs": [
    {
     "ename": "SyntaxError",
     "evalue": "cannot assign to literal (1209570371.py, line 5)",
     "output_type": "error",
     "traceback": [
      "\u001b[1;36m  Input \u001b[1;32mIn [22]\u001b[1;36m\u001b[0m\n\u001b[1;33m    1 = 'liam'\u001b[0m\n\u001b[1;37m    ^\u001b[0m\n\u001b[1;31mSyntaxError\u001b[0m\u001b[1;31m:\u001b[0m cannot assign to literal\n"
     ]
    }
   ],
   "source": [
    "# Create a variable 'lstVar' to hold an empty list\n",
    "lstvar= (1), (2), (3)\n",
    "\n",
    "# Append to this list three number type objects\n",
    "1 = 'liam'\n",
    "2 = 'christopher'\n",
    "3 = 'clay'\n",
    "\n",
    "# Create a variable revlstVar to hold lstVar in reverse\n",
    "reclstvar = 2,3,1"
   ]
  },
  {
   "cell_type": "markdown",
   "metadata": {},
   "source": [
    "## Dictionaries\n",
    "> Create the following:"
   ]
  },
  {
   "cell_type": "code",
   "execution_count": 24,
   "metadata": {},
   "outputs": [],
   "source": [
    "# Create a variable 'dctVar' to hold an empty dictionary\n",
    "dctvar= (1)\n",
    "\n",
    "# Add each variable created above and set them each to their own keys\n",
    "dctvar= (1),(2)\n",
    "\n",
    "# Call the 'strVar' from inside the dictionary and call the Upper method on it\n",
    "strvar= 1"
   ]
  }
 ],
 "metadata": {
  "kernelspec": {
   "display_name": "Python 3.9.12 ('base')",
   "language": "python",
   "name": "python3"
  },
  "language_info": {
   "codemirror_mode": {
    "name": "ipython",
    "version": 3
   },
   "file_extension": ".py",
   "mimetype": "text/x-python",
   "name": "python",
   "nbconvert_exporter": "python",
   "pygments_lexer": "ipython3",
   "version": "3.9.12"
  },
  "orig_nbformat": 4,
  "vscode": {
   "interpreter": {
    "hash": "6391a5c88166aec3efb2942a34daa1172106fe9837226af7d7b6cfe920f73ccb"
   }
  }
 },
 "nbformat": 4,
 "nbformat_minor": 2
}
