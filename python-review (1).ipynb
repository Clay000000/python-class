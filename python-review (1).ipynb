{
 "cells": [
  {
   "cell_type": "markdown",
   "metadata": {},
   "source": [
    "# if statements practice"
   ]
  },
  {
   "cell_type": "code",
   "execution_count": 7,
   "metadata": {},
   "outputs": [],
   "source": [
    "myvar = True"
   ]
  },
  {
   "cell_type": "code",
   "execution_count": 8,
   "metadata": {},
   "outputs": [],
   "source": [
    "# This if statement\n",
    "\n",
    "age = int(input(\"how old are you?: \"))\n",
    "if age == 100:\n",
    "    print(\"you are a centry old!\")\n",
    "\n"
   ]
  },
  {
   "cell_type": "code",
   "execution_count": 9,
   "metadata": {},
   "outputs": [],
   "source": [
    "# And this if statement are the same!\n",
    "age = int(input(\"how old are you?: \"))\n",
    "if age == 10:\n",
    "    print(\"you are a young little monkey!\")\n",
    "\n"
   ]
  },
  {
   "cell_type": "code",
   "execution_count": 10,
   "metadata": {},
   "outputs": [],
   "source": [
    "# This statement is also the same so long as myvar is True!\n",
    "myvar = True \n",
    "age = int(input(\"how old are you?: \"))\n",
    "if age == 10:\n",
    "    print(\"you are a young little monkey!\")\n"
   ]
  },
  {
   "cell_type": "code",
   "execution_count": 11,
   "metadata": {},
   "outputs": [
    {
     "data": {
      "text/plain": [
       "1"
      ]
     },
     "execution_count": 11,
     "metadata": {},
     "output_type": "execute_result"
    }
   ],
   "source": [
    "# Maybe myvar can never be True! \n",
    "# We can get around changing the variable by declaring `not`\n",
    "1"
   ]
  },
  {
   "cell_type": "code",
   "execution_count": 12,
   "metadata": {},
   "outputs": [
    {
     "ename": "SyntaxError",
     "evalue": "invalid syntax (3553805539.py, line 5)",
     "output_type": "error",
     "traceback": [
      "\u001b[1;36m  Input \u001b[1;32mIn [12]\u001b[1;36m\u001b[0m\n\u001b[1;33m    elif age >= 18\u001b[0m\n\u001b[1;37m                  ^\u001b[0m\n\u001b[1;31mSyntaxError\u001b[0m\u001b[1;31m:\u001b[0m invalid syntax\n"
     ]
    }
   ],
   "source": [
    "# The identation shows python what to read\n",
    "age = int(input(\"how old are you?: \"))\n",
    "if age <= 10:\n",
    "    print(\"you are a young kiddo!\")\n",
    "elif age >= 18\n",
    "    print(\"you are a adult\")\n"
   ]
  },
  {
   "cell_type": "code",
   "execution_count": null,
   "metadata": {},
   "outputs": [],
   "source": [
    "myvar = 1"
   ]
  },
  {
   "cell_type": "code",
   "execution_count": null,
   "metadata": {},
   "outputs": [],
   "source": [
    "# We can declare multiple elif statements (if-elif-elif-else)\n",
    "# Else will always catch anything not declared in the if and elif statement\n"
   ]
  }
 ],
 "metadata": {
  "kernelspec": {
   "display_name": "Python 3.9.12 ('base')",
   "language": "python",
   "name": "python3"
  },
  "language_info": {
   "codemirror_mode": {
    "name": "ipython",
    "version": 3
   },
   "file_extension": ".py",
   "mimetype": "text/x-python",
   "name": "python",
   "nbconvert_exporter": "python",
   "pygments_lexer": "ipython3",
   "version": "3.9.12"
  },
  "orig_nbformat": 4,
  "vscode": {
   "interpreter": {
    "hash": "6391a5c88166aec3efb2942a34daa1172106fe9837226af7d7b6cfe920f73ccb"
   }
  }
 },
 "nbformat": 4,
 "nbformat_minor": 2
}
