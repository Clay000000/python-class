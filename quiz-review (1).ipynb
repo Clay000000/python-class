{
 "cells": [
  {
   "cell_type": "markdown",
   "metadata": {},
   "source": [
    "# Quiz Review\n",
    ">\n",
    ">Data Types, Numbers, Strings, Lists, Dictionaries, and Booleans\n",
    ">"
   ]
  },
  {
   "cell_type": "markdown",
   "metadata": {},
   "source": [
    "## Data Types\n",
    "> What function can you use to find the type of an object?"
   ]
  },
  {
   "cell_type": "code",
   "execution_count": null,
   "metadata": {},
   "outputs": [],
   "source": [
    "## Write code here\n",
    "myvar= 2"
   ]
  },
  {
   "cell_type": "markdown",
   "metadata": {},
   "source": [
    "## Numbers\n",
    "> Create the following:"
   ]
  },
  {
   "cell_type": "code",
   "execution_count": 2,
   "metadata": {},
   "outputs": [
    {
     "data": {
      "text/plain": [
       "2.0"
      ]
     },
     "execution_count": 2,
     "metadata": {},
     "output_type": "execute_result"
    }
   ],
   "source": [
    "# Create a variable 'numVar' to hold a number\n",
    "numvar = 2\n",
    "\n",
    "# create a variable 'fltVar' to hold a float\n",
    "fltvar = numvar = 2 \n",
    "\n",
    "# Change numVar to a float\n",
    "num_Var = \"fltVar\"\n",
    "\n",
    "\n",
    "# Change fltVar to a number\n",
    "myvar1 = 4\n",
    "\n",
    "# Multiply numVar by 10\n",
    "myvar = 2\n",
    "2**10 \n",
    "# Return the remainer of numVar divided by 3.14\n",
    "numvar % 3.14"
   ]
  },
  {
   "cell_type": "markdown",
   "metadata": {},
   "source": [
    "## Strings\n",
    "> Create the following:"
   ]
  },
  {
   "cell_type": "code",
   "execution_count": 8,
   "metadata": {},
   "outputs": [],
   "source": [
    "# Create a variable 'strVar' to hold a string that contains an apostrophe and spaces\n",
    "strvar = \"donkey's food\"\n",
    "\n",
    "# Split this variable on the spaces\n",
    "strvar = \"donkey's\"\n",
    "strvar = \"food\"\n",
    "\n",
    "# Split this variable on the apostrophe\n",
    "strvar = \"donkey's\"\n",
    "strvar = \"food\"\n"
   ]
  },
  {
   "cell_type": "markdown",
   "metadata": {},
   "source": [
    "## Lists\n",
    "> Create the following:"
   ]
  },
  {
   "cell_type": "code",
   "execution_count": 15,
   "metadata": {},
   "outputs": [],
   "source": [
    "# Create a variable 'lstVar' to hold an empty list\n",
    "lstvar = 1,2,3,4,5,6,7,8,9\n",
    "\n",
    "# Append to this list three number type objects\n",
    "lstvar = [\"string\", 123, \"string2\"]\n",
    "\n",
    "# Create a variable revlstVar to hold lstVar in reverse\n",
    "revlstvar =  [\"string2\", 123, \"string\"]"
   ]
  },
  {
   "cell_type": "markdown",
   "metadata": {},
   "source": [
    "## Dictionaries\n",
    "> Create the following:"
   ]
  },
  {
   "cell_type": "code",
   "execution_count": 27,
   "metadata": {},
   "outputs": [
    {
     "ename": "SyntaxError",
     "evalue": "invalid syntax (459334387.py, line 9)",
     "output_type": "error",
     "traceback": [
      "\u001b[1;36m  Input \u001b[1;32mIn [27]\u001b[1;36m\u001b[0m\n\u001b[1;33m    dct[2].upper {yoink}\u001b[0m\n\u001b[1;37m                 ^\u001b[0m\n\u001b[1;31mSyntaxError\u001b[0m\u001b[1;31m:\u001b[0m invalid syntax\n"
     ]
    }
   ],
   "source": [
    "# Create a variable 'dctVar' to hold an empty dictionary\n",
    "dct = {}\n",
    "\n",
    "\n",
    "# Add each variable created above and set them each to their own keys\n",
    "dct = [\"string\", 123, \"string2\", strvar]\n",
    "\n",
    "# Call the 'strVar' from inside the dictionary and call the Upper method on it\n",
    "dct[2].upper "
   ]
  }
 ],
 "metadata": {
  "kernelspec": {
   "display_name": "Python 3.9.12 ('base')",
   "language": "python",
   "name": "python3"
  },
  "language_info": {
   "codemirror_mode": {
    "name": "ipython",
    "version": 3
   },
   "file_extension": ".py",
   "mimetype": "text/x-python",
   "name": "python",
   "nbconvert_exporter": "python",
   "pygments_lexer": "ipython3",
   "version": "3.9.12"
  },
  "orig_nbformat": 4,
  "vscode": {
   "interpreter": {
    "hash": "6391a5c88166aec3efb2942a34daa1172106fe9837226af7d7b6cfe920f73ccb"
   }
  }
 },
 "nbformat": 4,
 "nbformat_minor": 2
}
