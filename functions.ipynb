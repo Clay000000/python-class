{
 "cells": [
  {
   "cell_type": "code",
   "execution_count": 10,
   "metadata": {},
   "outputs": [],
   "source": [
    "# LESSER OF TWO EVENS\n",
    "# WRITE A FUNCTION THAT RETURNS THE LESSER OF TWO EVEN NUMBERS\n",
    "\n",
    "def lesser_of_two_evens(a, b):\n",
    "    if (a % 2 and b % 2) != 0:\n",
    "        if b > a:\n",
    "            print(b)\n",
    "        if a > b:\n",
    "            print(a)    \n",
    "    elif (a % 2 and b % 2) == 0:\n",
    "        if a < b:\n",
    "            print(a)\n",
    "        else:\n",
    "            print(b)    \n",
    "    \n",
    "\n"
   ]
  },
  {
   "cell_type": "code",
   "execution_count": 9,
   "metadata": {},
   "outputs": [
    {
     "ename": "IndentationError",
     "evalue": "unindent does not match any outer indentation level (<tokenize>, line 9)",
     "output_type": "error",
     "traceback": [
      "\u001b[1;36m  File \u001b[1;32m<tokenize>:9\u001b[1;36m\u001b[0m\n\u001b[1;33m    else:\u001b[0m\n\u001b[1;37m    ^\u001b[0m\n\u001b[1;31mIndentationError\u001b[0m\u001b[1;31m:\u001b[0m unindent does not match any outer indentation level\n"
     ]
    }
   ],
   "source": [
    "# CHECK\n",
    "\n",
    "lesser_of_two_evens(2, 4)\n",
    "if a % 2 and b % 4:\n",
    "        if b < a:\n",
    "            return a\n",
    "        if a > b:\n",
    "            return b\n",
    "    else:\n",
    "        if a < b:\n",
    "            return b\n",
    "        else:\n",
    "            return a"
   ]
  },
  {
   "cell_type": "code",
   "execution_count": null,
   "metadata": {},
   "outputs": [],
   "source": [
    "lesser_of_two_evens(2, 5)"
   ]
  },
  {
   "cell_type": "code",
   "execution_count": null,
   "metadata": {},
   "outputs": [],
   "source": [
    "# ANIMAL CRACKERS\n",
    "# WRITE A FUNCTION THAT TAKES A TWO-WORD STRING AND RETURNS TRUE IF BOTH WORDS BEGIN WITH THE SAME LETTER\n",
    "\n",
    "def animal_crackers(text):\n"
   ]
  },
  {
   "cell_type": "code",
   "execution_count": null,
   "metadata": {},
   "outputs": [],
   "source": [
    "animal_crackers('Levelheaded Llama')"
   ]
  },
  {
   "cell_type": "code",
   "execution_count": null,
   "metadata": {},
   "outputs": [],
   "source": [
    "animal_crackers('Crazy Kangaroo')"
   ]
  },
  {
   "cell_type": "code",
   "execution_count": 11,
   "metadata": {},
   "outputs": [],
   "source": [
    "# MAKES TWENTY\n",
    "# GIVEN TWO INTEGERS, RETURN TRUE IF THE SUM OF THE INTEGERS IS 20 OR IF ONE OF THE INTEGERS IS 20. OTHERWISE RETURN FALSE.\n",
    "\n",
    "def makes_twenty(n1, n2):\n",
    "    return (n1+n2)==20 or n1==20 or n2==20\n"
   ]
  },
  {
   "cell_type": "code",
   "execution_count": null,
   "metadata": {},
   "outputs": [],
   "source": [
    "makes_twenty(20, 10)"
   ]
  },
  {
   "cell_type": "code",
   "execution_count": null,
   "metadata": {},
   "outputs": [],
   "source": [
    "makes_twenty(2, 3)"
   ]
  },
  {
   "cell_type": "code",
   "execution_count": null,
   "metadata": {},
   "outputs": [],
   "source": [
    "makes_twenty(10,10)"
   ]
  }
 ],
 "metadata": {
  "kernelspec": {
   "display_name": "Python 3.9.12 ('base')",
   "language": "python",
   "name": "python3"
  },
  "language_info": {
   "codemirror_mode": {
    "name": "ipython",
    "version": 3
   },
   "file_extension": ".py",
   "mimetype": "text/x-python",
   "name": "python",
   "nbconvert_exporter": "python",
   "pygments_lexer": "ipython3",
   "version": "3.9.12"
  },
  "orig_nbformat": 4,
  "vscode": {
   "interpreter": {
    "hash": "6391a5c88166aec3efb2942a34daa1172106fe9837226af7d7b6cfe920f73ccb"
   }
  }
 },
 "nbformat": 4,
 "nbformat_minor": 2
}
